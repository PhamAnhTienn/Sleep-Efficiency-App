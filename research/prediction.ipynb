{
 "cells": [
  {
   "cell_type": "code",
   "execution_count": 1,
   "metadata": {},
   "outputs": [],
   "source": [
    "import os"
   ]
  },
  {
   "cell_type": "code",
   "execution_count": 2,
   "metadata": {},
   "outputs": [
    {
     "data": {
      "text/plain": [
       "'e:\\\\project\\\\Customer Purchase Prediction'"
      ]
     },
     "execution_count": 2,
     "metadata": {},
     "output_type": "execute_result"
    }
   ],
   "source": [
    "os.chdir(\"../\")\n",
    "%pwd"
   ]
  },
  {
   "cell_type": "code",
   "execution_count": 3,
   "metadata": {},
   "outputs": [],
   "source": [
    "import joblib\n",
    "import numpy as np\n",
    "import pandas as pd\n",
    "from pathlib import Path\n",
    "import mlflow\n",
    "from mlflow.tracking import MlflowClient\n",
    "from src.logger import logging"
   ]
  },
  {
   "cell_type": "code",
   "execution_count": 4,
   "metadata": {},
   "outputs": [
    {
     "data": {
      "text/html": [
       "<pre style=\"white-space:pre;overflow-x:auto;line-height:normal;font-family:Menlo,'DejaVu Sans Mono',consolas,'Courier New',monospace\">Accessing as PhamAnhTienn\n",
       "</pre>\n"
      ],
      "text/plain": [
       "Accessing as PhamAnhTienn\n"
      ]
     },
     "metadata": {},
     "output_type": "display_data"
    },
    {
     "data": {
      "text/html": [
       "<pre style=\"white-space:pre;overflow-x:auto;line-height:normal;font-family:Menlo,'DejaVu Sans Mono',consolas,'Courier New',monospace\">Initialized MLflow to track repo <span style=\"color: #008000; text-decoration-color: #008000\">\"PhamAnhTienn/Sleep-Efficiency-App\"</span>\n",
       "</pre>\n"
      ],
      "text/plain": [
       "Initialized MLflow to track repo \u001b[32m\"PhamAnhTienn/Sleep-Efficiency-App\"\u001b[0m\n"
      ]
     },
     "metadata": {},
     "output_type": "display_data"
    },
    {
     "data": {
      "text/html": [
       "<pre style=\"white-space:pre;overflow-x:auto;line-height:normal;font-family:Menlo,'DejaVu Sans Mono',consolas,'Courier New',monospace\">Repository PhamAnhTienn/Sleep-Efficiency-App initialized!\n",
       "</pre>\n"
      ],
      "text/plain": [
       "Repository PhamAnhTienn/Sleep-Efficiency-App initialized!\n"
      ]
     },
     "metadata": {},
     "output_type": "display_data"
    }
   ],
   "source": [
    "import dagshub\n",
    "dagshub.init(repo_owner='PhamAnhTienn', repo_name='Sleep-Efficiency-App', mlflow=True)"
   ]
  },
  {
   "cell_type": "code",
   "execution_count": 5,
   "metadata": {},
   "outputs": [],
   "source": [
    "model_name = \"sleep_efficiency_model\"\n",
    "\n",
    "class InferrencePineline:\n",
    "    def __init__(self):\n",
    "        self.model = joblib.load(Path('artifacts/model_trainer/model.joblib'))\n",
    "    \n",
    "    def load_latest_model(self):\n",
    "        mlflow.set_registry_uri(\"https://dagshub.com/PhamAnhTienn/Sleep-Efficiency-App.mlflow\")\n",
    "        client = MlflowClient()\n",
    "        \n",
    "        logging.info(f\"Attempting to load latest version of model: {model_name}\")\n",
    "        latest_version = max(\n",
    "            client.search_model_versions(f\"name='{model_name}'\"),\n",
    "            key=lambda mv: int(mv.version)\n",
    "        )\n",
    "        latest_version_number = latest_version.version\n",
    "        run_id = latest_version.run_id\n",
    "        logging.info(\n",
    "            f\"Found model version: {latest_version_number} with run_id: {run_id}\"\n",
    "        )\n",
    "        \n",
    "        if not run_id:\n",
    "            logging.error(\"No run_id found for the model version\")\n",
    "            return None, None\n",
    "\n",
    "        # Load the model\n",
    "        model = mlflow.pyfunc.load_model(f\"models:/{model_name}/{latest_version_number}\")\n",
    "        logging.info(\"Model loaded successfully\")\n",
    "        \n",
    "        self.model = model\n",
    "        joblib.dump(model, os.path.join(\"artifacts/model_trainer\", \"model.joblib\"))\n",
    "        logging.info(\"Model saved to artifacts/model_trainer\")\n",
    "        \n",
    "    def predict(self, data):\n",
    "        prediction = self.model.predict(data)\n",
    "        \n",
    "        return prediction"
   ]
  },
  {
   "cell_type": "code",
   "execution_count": 6,
   "metadata": {},
   "outputs": [
    {
     "name": "stdout",
     "output_type": "stream",
     "text": [
      "Prediction result: 0.70\n"
     ]
    }
   ],
   "source": [
    "sample_data = {\n",
    "    \"Age\": 25,\n",
    "    \"Gender\": \"Male\",\n",
    "    \"Bedtime\": 10.5,\n",
    "    \"Bedtime_AMPM\": \"PM\",\n",
    "    \"Wakeup_time\": 6.0,\n",
    "    \"Wakeup_time_AMPM\": \"AM\",\n",
    "    \"Sleep_duration\": 7.5,\n",
    "    \"Awakenings\": 1,\n",
    "    \"Caffeine_consumption\": \"No\",\n",
    "    \"Alcohol_consumption\": \"Yes\",\n",
    "    \"Smoking_status\": \"No\",\n",
    "    \"Exercise_frequency\": 3\n",
    "}\n",
    "\n",
    "# Tiền xử lý dữ liệu như trong đoạn code Flask\n",
    "Age = float(sample_data['Age'])\n",
    "Gender = 1 if sample_data['Gender'] == 'Male' else 0\n",
    "Bedtime = float(sample_data['Bedtime'])\n",
    "Bedtime_AMPM = sample_data['Bedtime_AMPM']\n",
    "if Bedtime_AMPM == 'PM' and Bedtime < 12:\n",
    "    Bedtime += 12\n",
    "elif Bedtime_AMPM == 'AM' and Bedtime == 12:\n",
    "    Bedtime = 0\n",
    "Wakeup_time = float(sample_data['Wakeup_time'])\n",
    "Wakeup_time_AMPM = sample_data['Wakeup_time_AMPM']\n",
    "if Wakeup_time_AMPM == 'PM' and Wakeup_time < 12:\n",
    "    Wakeup_time += 12\n",
    "elif Wakeup_time_AMPM == 'AM' and Wakeup_time == 12:\n",
    "    Wakeup_time = 0\n",
    "Sleep_duration = float(sample_data['Sleep_duration'])\n",
    "Awakenings = float(sample_data['Awakenings'])\n",
    "Caffeine_consumption = 1 if sample_data['Caffeine_consumption'] == 'Yes' else 0\n",
    "Alcohol_consumption = 1 if sample_data['Alcohol_consumption'] == 'Yes' else 0\n",
    "Smoking_status = 1 if sample_data['Smoking_status'] == 'Yes' else 0\n",
    "Exercise_frequency = 1 if float(sample_data['Exercise_frequency']) > 1 else 0\n",
    "\n",
    "input_data = [\n",
    "    Age, Gender, Bedtime, Wakeup_time, Sleep_duration, \n",
    "    Awakenings, Caffeine_consumption, Alcohol_consumption,\n",
    "    Smoking_status, Exercise_frequency\n",
    "]\n",
    "\n",
    "feature_names = [\n",
    "    'Age',\n",
    "    'Gender',\n",
    "    'Bedtime',\n",
    "    'Wakeup time',\n",
    "    'Sleep duration',\n",
    "    'Awakenings',\n",
    "    'Caffeine consumption',\n",
    "    'Alcohol consumption',\n",
    "    'Smoking status',\n",
    "    'Exercise frequency'\n",
    "]\n",
    "\n",
    "# Chuyển đổi sang DataFrame để đưa vào model\n",
    "df = pd.DataFrame([input_data], columns=feature_names)\n",
    "\n",
    "pipeline = InferrencePineline()\n",
    "#pipeline.load_latest_model()\n",
    "prediction = pipeline.predict(df)\n",
    "print(f\"Prediction result: {prediction[0]:.2f}\")"
   ]
  },
  {
   "cell_type": "code",
   "execution_count": null,
   "metadata": {},
   "outputs": [],
   "source": []
  }
 ],
 "metadata": {
  "kernelspec": {
   "display_name": "Python 3",
   "language": "python",
   "name": "python3"
  },
  "language_info": {
   "codemirror_mode": {
    "name": "ipython",
    "version": 3
   },
   "file_extension": ".py",
   "mimetype": "text/x-python",
   "name": "python",
   "nbconvert_exporter": "python",
   "pygments_lexer": "ipython3",
   "version": "3.8.19"
  }
 },
 "nbformat": 4,
 "nbformat_minor": 2
}
